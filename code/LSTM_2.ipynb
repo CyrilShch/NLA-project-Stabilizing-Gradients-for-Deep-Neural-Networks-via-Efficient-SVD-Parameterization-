{
 "cells": [
  {
   "cell_type": "code",
   "execution_count": 68,
   "metadata": {},
   "outputs": [],
   "source": [
    "import torch\n",
    "\n",
    "from torch import functional as F"
   ]
  },
  {
   "cell_type": "code",
   "execution_count": 69,
   "metadata": {},
   "outputs": [],
   "source": [
    "import numpy as np\n",
    "\n",
    "def rolling_window(a, window, step_size):\n",
    "    shape = a.shape[:-1] + (a.shape[-1] - window + 1 - step_size + 1, window)\n",
    "    strides = a.strides + (a.strides[-1] * step_size,)\n",
    "    return np.lib.stride_tricks.as_strided(a, shape=shape, strides=strides)"
   ]
  },
  {
   "cell_type": "code",
   "execution_count": 70,
   "metadata": {},
   "outputs": [],
   "source": [
    "window_size = 20\n",
    "n_samples = 100\n",
    "\n",
    "X = np.arange(n_samples, dtype=np.float32)\n",
    "y = X + window_size\n",
    "X = rolling_window(X, 20, 1)"
   ]
  },
  {
   "cell_type": "code",
   "execution_count": 40,
   "metadata": {},
   "outputs": [],
   "source": [
    "data = np.loadtxt('data100.dms', dtype=np.float32, delimiter = ',')"
   ]
  },
  {
   "cell_type": "code",
   "execution_count": 41,
   "metadata": {},
   "outputs": [],
   "source": [
    "y = data[:, 0]\n",
    "X = data[:, 1:]"
   ]
  },
  {
   "cell_type": "code",
   "execution_count": 42,
   "metadata": {},
   "outputs": [
    {
     "data": {
      "text/plain": [
       "(101000, 200)"
      ]
     },
     "execution_count": 42,
     "metadata": {},
     "output_type": "execute_result"
    }
   ],
   "source": [
    "X.shape"
   ]
  },
  {
   "cell_type": "code",
   "execution_count": 43,
   "metadata": {},
   "outputs": [],
   "source": [
    "from torch.utils.data import Dataset\n",
    "\n",
    "class TimeSeries(Dataset):\n",
    "    def __init__(self, X, y):\n",
    "        self.X = torch.tensor(X)\n",
    "        self.y = torch.tensor(y)\n",
    "\n",
    "    def __len__(self):\n",
    "        return self.X.shape[0]\n",
    "\n",
    "    def __getitem__(self, idx):\n",
    "        if isinstance(idx, slice):\n",
    "            return TimeSeries(self.X[idx], self.y[idx])\n",
    "        return self.X[idx], self.y[idx]"
   ]
  },
  {
   "cell_type": "code",
   "execution_count": 44,
   "metadata": {},
   "outputs": [],
   "source": [
    "dataset = TimeSeries(X, y)"
   ]
  },
  {
   "cell_type": "code",
   "execution_count": 45,
   "metadata": {},
   "outputs": [],
   "source": [
    "dataset[0];"
   ]
  },
  {
   "cell_type": "code",
   "execution_count": 82,
   "metadata": {},
   "outputs": [
    {
     "name": "stderr",
     "output_type": "stream",
     "text": [
      "/home/waytobehigh/ds/lib/python3.6/site-packages/ipykernel_launcher.py:5: UserWarning: To copy construct from a tensor, it is recommended to use sourceTensor.clone().detach() or sourceTensor.clone().detach().requires_grad_(True), rather than torch.tensor(sourceTensor).\n",
      "  \"\"\"\n",
      "/home/waytobehigh/ds/lib/python3.6/site-packages/ipykernel_launcher.py:6: UserWarning: To copy construct from a tensor, it is recommended to use sourceTensor.clone().detach() or sourceTensor.clone().detach().requires_grad_(True), rather than torch.tensor(sourceTensor).\n",
      "  \n"
     ]
    }
   ],
   "source": [
    "train_idx = 4 * n_samples // 5\n",
    "\n",
    "# def collate_fn(data):\n",
    "#     print(len(data))\n",
    "#     X, y = map(torch.tensor, data)\n",
    "#     return torch.cat((X, y.reshape(-1, 1)), 1)\n",
    "\n",
    "train_gen = torch.utils.data.DataLoader(dataset[:train_idx], batch_size=180, shuffle=True)\n",
    "test_gen = torch.utils.data.DataLoader(dataset[train_idx:], batch_size=180, shuffle=True)"
   ]
  },
  {
   "cell_type": "code",
   "execution_count": 83,
   "metadata": {},
   "outputs": [],
   "source": [
    "class Model(torch.nn.Module):\n",
    "    def __init__(self, hid_size=128):\n",
    "        super().__init__()\n",
    "        self._hid_size = hid_size\n",
    "        self.rnn = torch.nn.LSTM(1, hid_size, 1, batch_first=True)\n",
    "        self.out = torch.nn.Linear(hid_size, 1)\n",
    "        self.h0 = torch.randn(self._hid_size)\n",
    "        self.c0 = torch.randn(self._hid_size)\n",
    "        \n",
    "    def forward(self, x):\n",
    "#         h0 = torch.cat([self.h0] * x.shape[0]).reshape(-1, 1, self._hid_size)\n",
    "#         c0 = torch.cat([self.c0] * x.shape[0]).reshape(-1, 1, self._hid_size)\n",
    "        out_rnn, _ = self.rnn(x)\n",
    "        return self.out(out_rnn[:, -1, :]).view(-1)"
   ]
  },
  {
   "cell_type": "code",
   "execution_count": 84,
   "metadata": {},
   "outputs": [],
   "source": [
    "model = Model()"
   ]
  },
  {
   "cell_type": "code",
   "execution_count": 85,
   "metadata": {},
   "outputs": [
    {
     "data": {
      "application/vnd.jupyter.widget-view+json": {
       "model_id": "a7be80f6c1df47238a48bbc1a00da7f6",
       "version_major": 2,
       "version_minor": 0
      },
      "text/plain": [
       "HBox(children=(IntProgress(value=0), HTML(value='')))"
      ]
     },
     "metadata": {},
     "output_type": "display_data"
    }
   ],
   "source": [
    "from tqdm import tqdm_notebook\n",
    "\n",
    "losses = []\n",
    "grads = []\n",
    "opt = torch.optim.Adam(model.parameters(), 0.01)\n",
    "\n",
    "for _ in tqdm_notebook(range(100)):\n",
    "    for batch in train_gen:\n",
    "        X_batch, y_batch = batch\n",
    "        X_batch = X_batch.view(*X_batch.shape, 1)\n",
    "        loss = torch.sqrt(torch.mean((model(X_batch) - y_batch) ** 2))\n",
    "        loss.backward()\n",
    "        grads.append(torch.norm(model.rnn.weight_hh_l0, p=2))\n",
    "        opt.step()\n",
    "        opt.zero_grad()\n",
    "        losses.append(loss.data.numpy().item())"
   ]
  },
  {
   "cell_type": "code",
   "execution_count": 86,
   "metadata": {},
   "outputs": [
    {
     "name": "stdout",
     "output_type": "stream",
     "text": [
      "torch.Size([512, 1]) torch.Size([512, 128]) torch.Size([512]) torch.Size([512])\n"
     ]
    }
   ],
   "source": [
    "print(*(weight.shape for weight in model.rnn.all_weights[0]))"
   ]
  },
  {
   "cell_type": "code",
   "execution_count": 87,
   "metadata": {},
   "outputs": [
    {
     "data": {
      "image/png": "[encoded data removed]",
      "text/plain": [
       "<Figure size 432x288 with 1 Axes>"
      ]
     },
     "metadata": {
      "needs_background": "light"
     },
     "output_type": "display_data"
    }
   ],
   "source": [
    "from matplotlib import pyplot as plt\n",
    "plt.plot(losses)\n",
    "plt.show()"
   ]
  },
  {
   "cell_type": "code",
   "execution_count": 88,
   "metadata": {},
   "outputs": [
    {
     "data": {
      "text/plain": [
       "[<matplotlib.lines.Line2D at 0x7fa51078d978>]"
      ]
     },
     "execution_count": 88,
     "metadata": {},
     "output_type": "execute_result"
    },
    {
     "data": {
      "image/png": "[encoded data removed]",
      "text/plain": [
       "<Figure size 432x288 with 1 Axes>"
      ]
     },
     "metadata": {
      "needs_background": "light"
     },
     "output_type": "display_data"
    }
   ],
   "source": [
    "plt.plot(grads)"
   ]
  }
 ],
 "metadata": {
  "kernelspec": {
   "display_name": "Python 3",
   "language": "python",
   "name": "python3"
  },
  "language_info": {
   "codemirror_mode": {
    "name": "ipython",
    "version": 3
   },
   "file_extension": ".py",
   "mimetype": "text/x-python",
   "name": "python",
   "nbconvert_exporter": "python",
   "pygments_lexer": "ipython3",
   "version": "3.6.6"
  }
 },
 "nbformat": 4,
 "nbformat_minor": 2
}
