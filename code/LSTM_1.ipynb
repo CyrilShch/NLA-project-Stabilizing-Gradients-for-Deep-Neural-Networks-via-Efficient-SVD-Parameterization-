{
 "cells": [
  {
   "cell_type": "code",
   "execution_count": 236,
   "metadata": {},
   "outputs": [],
   "source": [
    "import torch\n",
    "\n",
    "from torch import functional as F"
   ]
  },
  {
   "cell_type": "code",
   "execution_count": 237,
   "metadata": {},
   "outputs": [],
   "source": [
    "import numpy as np\n",
    "\n",
    "def rolling_window(a, window, step_size):\n",
    "    shape = a.shape[:-1] + (a.shape[-1] - window + 1 - step_size + 1, window)\n",
    "    strides = a.strides + (a.strides[-1] * step_size,)\n",
    "    return np.lib.stride_tricks.as_strided(a, shape=shape, strides=strides)"
   ]
  },
  {
   "cell_type": "code",
   "execution_count": 242,
   "metadata": {},
   "outputs": [],
   "source": [
    "window_size = 100\n",
    "n_samples = 10000\n",
    "\n",
    "X = np.arange(n_samples, dtype=np.float32)\n",
    "y = X + window_size\n",
    "X = rolling_window(X, 100, 1)"
   ]
  },
  {
   "cell_type": "code",
   "execution_count": 243,
   "metadata": {},
   "outputs": [
    {
     "data": {
      "text/plain": [
       "array([[0.000e+00, 1.000e+00, 2.000e+00, ..., 9.700e+01, 9.800e+01,\n",
       "        9.900e+01],\n",
       "       [1.000e+00, 2.000e+00, 3.000e+00, ..., 9.800e+01, 9.900e+01,\n",
       "        1.000e+02],\n",
       "       [2.000e+00, 3.000e+00, 4.000e+00, ..., 9.900e+01, 1.000e+02,\n",
       "        1.010e+02],\n",
       "       ...,\n",
       "       [9.898e+03, 9.899e+03, 9.900e+03, ..., 9.995e+03, 9.996e+03,\n",
       "        9.997e+03],\n",
       "       [9.899e+03, 9.900e+03, 9.901e+03, ..., 9.996e+03, 9.997e+03,\n",
       "        9.998e+03],\n",
       "       [9.900e+03, 9.901e+03, 9.902e+03, ..., 9.997e+03, 9.998e+03,\n",
       "        9.999e+03]], dtype=float32)"
      ]
     },
     "execution_count": 243,
     "metadata": {},
     "output_type": "execute_result"
    }
   ],
   "source": [
    "X"
   ]
  },
  {
   "cell_type": "code",
   "execution_count": 244,
   "metadata": {},
   "outputs": [],
   "source": [
    "from torch.utils.data import Dataset\n",
    "\n",
    "class TimeSeries(Dataset):\n",
    "    def __init__(self, X, y):\n",
    "        self.X = torch.tensor(X)\n",
    "        self.y = torch.tensor(y)\n",
    "\n",
    "    def __len__(self):\n",
    "        return self.X.shape[0]\n",
    "\n",
    "    def __getitem__(self, idx):\n",
    "        if isinstance(idx, slice):\n",
    "            return TimeSeries(self.X[idx], self.y[idx])\n",
    "        return self.X[idx], self.y[idx]"
   ]
  },
  {
   "cell_type": "code",
   "execution_count": 245,
   "metadata": {},
   "outputs": [],
   "source": [
    "dataset = TimeSeries(X, y)"
   ]
  },
  {
   "cell_type": "code",
   "execution_count": 246,
   "metadata": {},
   "outputs": [
    {
     "data": {
      "text/plain": [
       "(tensor([ 0.,  1.,  2.,  3.,  4.,  5.,  6.,  7.,  8.,  9., 10., 11., 12., 13.,\n",
       "         14., 15., 16., 17., 18., 19., 20., 21., 22., 23., 24., 25., 26., 27.,\n",
       "         28., 29., 30., 31., 32., 33., 34., 35., 36., 37., 38., 39., 40., 41.,\n",
       "         42., 43., 44., 45., 46., 47., 48., 49., 50., 51., 52., 53., 54., 55.,\n",
       "         56., 57., 58., 59., 60., 61., 62., 63., 64., 65., 66., 67., 68., 69.,\n",
       "         70., 71., 72., 73., 74., 75., 76., 77., 78., 79., 80., 81., 82., 83.,\n",
       "         84., 85., 86., 87., 88., 89., 90., 91., 92., 93., 94., 95., 96., 97.,\n",
       "         98., 99.]), tensor(100.))"
      ]
     },
     "execution_count": 246,
     "metadata": {},
     "output_type": "execute_result"
    }
   ],
   "source": [
    "dataset[0]"
   ]
  },
  {
   "cell_type": "code",
   "execution_count": 247,
   "metadata": {},
   "outputs": [
    {
     "name": "stderr",
     "output_type": "stream",
     "text": [
      "/home/waytobehigh/ds/lib/python3.6/site-packages/ipykernel_launcher.py:5: UserWarning: To copy construct from a tensor, it is recommended to use sourceTensor.clone().detach() or sourceTensor.clone().detach().requires_grad_(True), rather than torch.tensor(sourceTensor).\n",
      "  \"\"\"\n",
      "/home/waytobehigh/ds/lib/python3.6/site-packages/ipykernel_launcher.py:6: UserWarning: To copy construct from a tensor, it is recommended to use sourceTensor.clone().detach() or sourceTensor.clone().detach().requires_grad_(True), rather than torch.tensor(sourceTensor).\n",
      "  \n"
     ]
    }
   ],
   "source": [
    "train_idx = 4 * n_samples // 5\n",
    "\n",
    "# def collate_fn(data):\n",
    "#     print(len(data))\n",
    "#     X, y = map(torch.tensor, data)\n",
    "#     return torch.cat((X, y.reshape(-1, 1)), 1)\n",
    "\n",
    "train_gen = torch.utils.data.DataLoader(dataset[:train_idx], batch_size=44, shuffle=True)\n",
    "test_gen = torch.utils.data.DataLoader(dataset[train_idx:], batch_size=2, shuffle=True)"
   ]
  },
  {
   "cell_type": "code",
   "execution_count": 248,
   "metadata": {},
   "outputs": [],
   "source": [
    "class Model(torch.nn.Module):\n",
    "    def __init__(self, hid_size=128):\n",
    "        super().__init__()\n",
    "        self._hid_size = hid_size\n",
    "        self.rnn = torch.nn.LSTM(1, hid_size, 1, batch_first=True)\n",
    "        self.out = torch.nn.Linear(hid_size, 1)\n",
    "        self.h0 = torch.randn(self._hid_size)\n",
    "        self.c0 = torch.randn(self._hid_size)\n",
    "        \n",
    "    def forward(self, x):\n",
    "#         h0 = torch.cat([self.h0] * x.shape[0]).reshape(-1, 1, self._hid_size)\n",
    "#         c0 = torch.cat([self.c0] * x.shape[0]).reshape(-1, 1, self._hid_size)\n",
    "        out_rnn, _ = self.rnn(x)\n",
    "        return self.out(out_rnn[:, -1, :]).view(-1)"
   ]
  },
  {
   "cell_type": "code",
   "execution_count": 249,
   "metadata": {},
   "outputs": [],
   "source": [
    "model = Model()"
   ]
  },
  {
   "cell_type": "code",
   "execution_count": 250,
   "metadata": {},
   "outputs": [
    {
     "data": {
      "text/plain": [
       "torch.Size([512, 128])"
      ]
     },
     "execution_count": 250,
     "metadata": {},
     "output_type": "execute_result"
    }
   ],
   "source": [
    "model.rnn.weight_hh_l0.shape"
   ]
  },
  {
   "cell_type": "code",
   "execution_count": 252,
   "metadata": {},
   "outputs": [
    {
     "data": {
      "application/vnd.jupyter.widget-view+json": {
       "model_id": "ff3518fd1e9548e8a72d30fe8a2e7cb0",
       "version_major": 2,
       "version_minor": 0
      },
      "text/plain": [
       "HBox(children=(IntProgress(value=0, max=20), HTML(value='')))"
      ]
     },
     "metadata": {},
     "output_type": "display_data"
    }
   ],
   "source": [
    "from tqdm import tqdm_notebook\n",
    "\n",
    "losses = []\n",
    "grads = []\n",
    "opt = torch.optim.Adam(model.parameters(), 0.01)\n",
    "\n",
    "for _ in tqdm_notebook(range(20)):\n",
    "    for batch in train_gen:\n",
    "        X_batch, y_batch = batch\n",
    "        X_batch = X_batch.view(*X_batch.shape, 1)\n",
    "        loss = torch.sqrt(torch.mean((model(X_batch) - y_batch) ** 2))\n",
    "        loss.backward()\n",
    "        grads.append(torch.norm(model.rnn.weight_hh_l0, p=2))\n",
    "#         grads.append(model.rnn.weight_ih_l0)\n",
    "        opt.step()\n",
    "        opt.zero_grad()\n",
    "        losses.append(loss.data.numpy().item())"
   ]
  },
  {
   "cell_type": "code",
   "execution_count": 253,
   "metadata": {},
   "outputs": [
    {
     "name": "stdout",
     "output_type": "stream",
     "text": [
      "torch.Size([512, 1]) torch.Size([512, 128]) torch.Size([512]) torch.Size([512])\n"
     ]
    }
   ],
   "source": [
    "print(*(weight.shape for weight in model.rnn.all_weights[0]))"
   ]
  },
  {
   "cell_type": "code",
   "execution_count": 254,
   "metadata": {},
   "outputs": [
    {
     "data": {
      "text/plain": [
       "[<matplotlib.lines.Line2D at 0x7f89dc79bcf8>]"
      ]
     },
     "execution_count": 254,
     "metadata": {},
     "output_type": "execute_result"
    },
    {
     "data": {
      "image/png": "[encoded data removed]",
      "text/plain": [
       "<Figure size 432x288 with 1 Axes>"
      ]
     },
     "metadata": {
      "needs_background": "light"
     },
     "output_type": "display_data"
    }
   ],
   "source": [
    "from matplotlib import pyplot as plt\n",
    "plt.plot(losses)"
   ]
  },
  {
   "cell_type": "code",
   "execution_count": 255,
   "metadata": {
    "scrolled": false
   },
   "outputs": [
    {
     "data": {
      "text/plain": [
       "[<matplotlib.lines.Line2D at 0x7f89dc2f64e0>]"
      ]
     },
     "execution_count": 255,
     "metadata": {},
     "output_type": "execute_result"
    },
    {
     "data": {
      "image/png": "[encoded data removed]",
      "text/plain": [
       "<Figure size 432x288 with 1 Axes>"
      ]
     },
     "metadata": {
      "needs_background": "light"
     },
     "output_type": "display_data"
    }
   ],
   "source": [
    "plt.plot(grads)\n",
    "# grads[-1]"
   ]
  }
 ],
 "metadata": {
  "kernelspec": {
   "display_name": "Python 3",
   "language": "python",
   "name": "python3"
  },
  "language_info": {
   "codemirror_mode": {
    "name": "ipython",
    "version": 3
   },
   "file_extension": ".py",
   "mimetype": "text/x-python",
   "name": "python",
   "nbconvert_exporter": "python",
   "pygments_lexer": "ipython3",
   "version": "3.6.6"
  }
 },
 "nbformat": 4,
 "nbformat_minor": 2
}
